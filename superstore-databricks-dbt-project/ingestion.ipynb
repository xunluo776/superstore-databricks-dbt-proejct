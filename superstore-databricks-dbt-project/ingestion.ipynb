{
 "cells": [
  {
   "cell_type": "code",
   "execution_count": 0,
   "metadata": {
    "application/vnd.databricks.v1+cell": {
     "cellMetadata": {
      "byteLimit": 2048000,
      "rowLimit": 10000
     },
     "inputWidgets": {},
     "nuid": "6d6c4c04-9db2-4523-a068-23caa047ae01",
     "showTitle": false,
     "tableResultSettingsMap": {},
     "title": ""
    }
   },
   "outputs": [],
   "source": [
    "from pyspark.sql.functions import current_timestamp"
   ]
  },
  {
   "cell_type": "code",
   "execution_count": 0,
   "metadata": {
    "application/vnd.databricks.v1+cell": {
     "cellMetadata": {
      "byteLimit": 2048000,
      "rowLimit": 10000
     },
     "inputWidgets": {},
     "nuid": "0a652f8c-69e3-47fb-852f-6b2d7c9c1c44",
     "showTitle": false,
     "tableResultSettingsMap": {},
     "title": ""
    }
   },
   "outputs": [],
   "source": [
    "df = spark.\\\n",
    "    read.\\\n",
    "    format(\"csv\").\\\n",
    "    option(\"header\", True).\\\n",
    "    option(\"inferSchema\", True).\\\n",
    "    load('/Volumes/superstore_databricks_dbt/source/raw/superstore/')\n",
    "\n",
    "df_schema = df.schema\n",
    "\n",
    "df = spark.readStream.\\\n",
    "    format(\"csv\").\\\n",
    "    option(\"header\", True).\\\n",
    "    schema(df_schema).\\\n",
    "    load(\"/Volumes/superstore_databricks_dbt/source/raw/superstore/\").\\\n",
    "    toDF(*[c.strip().replace(\" \", \"_\") for c in df_schema.fieldNames()]).\\\n",
    "    withColumn(\"date_added\", current_timestamp()).\\\n",
    "    withColumn(\"date_updated\", current_timestamp())\n",
    "df.writeStream\\\n",
    "    .outputMode(\"append\")\\\n",
    "    .format(\"delta\")\\\n",
    "    .option(\"checkpointLocation\", \"/Volumes/superstore_databricks_dbt/bronze/checkpoint\")\\\n",
    "    .trigger(once=True)\\\n",
    "    .toTable(\"superstore_databricks_dbt.bronze.superstore\")"
   ]
  },
  {
   "cell_type": "code",
   "execution_count": 0,
   "metadata": {
    "application/vnd.databricks.v1+cell": {
     "cellMetadata": {
      "byteLimit": 2048000,
      "implicitDf": true,
      "rowLimit": 10000
     },
     "inputWidgets": {},
     "nuid": "0a8ab4cb-1432-4aa1-8f3e-c5af0b8d4bb4",
     "showTitle": false,
     "tableResultSettingsMap": {},
     "title": ""
    }
   },
   "outputs": [],
   "source": [
    "%sql\n",
    "select * from superstore_databricks_dbt.bronze.superstore limit 10"
   ]
  }
 ],
 "metadata": {
  "application/vnd.databricks.v1+notebook": {
   "computePreferences": null,
   "dashboards": [],
   "environmentMetadata": {
    "base_environment": "",
    "environment_version": "4"
   },
   "inputWidgetPreferences": null,
   "language": "python",
   "notebookMetadata": {
    "mostRecentlyExecutedCommandWithImplicitDF": {
     "commandId": 7601931927780253,
     "dataframes": [
      "_sqldf"
     ]
    },
    "pythonIndentUnit": 4
   },
   "notebookName": "ingestion",
   "widgets": {}
  },
  "language_info": {
   "name": "python"
  }
 },
 "nbformat": 4,
 "nbformat_minor": 0
}
